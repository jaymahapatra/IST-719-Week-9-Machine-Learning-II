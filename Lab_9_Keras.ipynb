{
  "nbformat": 4,
  "nbformat_minor": 0,
  "metadata": {
    "colab": {
      "name": "Lab 9 Keras.ipynb",
      "version": "0.3.2",
      "provenance": [],
      "include_colab_link": true
    },
    "kernelspec": {
      "name": "python3",
      "display_name": "Python 3"
    },
    "accelerator": "GPU"
  },
  "cells": [
    {
      "cell_type": "markdown",
      "metadata": {
        "id": "view-in-github",
        "colab_type": "text"
      },
      "source": [
        "<a href=\"https://colab.research.google.com/github/jaymahapatra/IST-719-Week-9-Machine-Learning-II/blob/master/Lab_9_Keras.ipynb\" target=\"_parent\"><img src=\"https://colab.research.google.com/assets/colab-badge.svg\" alt=\"Open In Colab\"/></a>"
      ]
    },
    {
      "metadata": {
        "id": "gSPHP2BNL6qc",
        "colab_type": "code",
        "colab": {}
      },
      "cell_type": "code",
      "source": [
        "###Using GPU\n",
        "##TensorFlow and tf.keras\n",
        "from __future__ import absolute_import, division, print_function\n",
        "import tensorflow as tf\n",
        "from tensorflow import keras\n",
        "\n",
        "import numpy as np\n",
        "import matplotlib.pyplot as plt\n",
        "import struct\n",
        "import numpy as np\n",
        "import pandas\n",
        "\n",
        "import time\n",
        "import matplotlib.pyplot as plt\n",
        "%matplotlib inline\n",
        "import os\n",
        "\n"
      ],
      "execution_count": 0,
      "outputs": []
    },
    {
      "metadata": {
        "id": "DR_D9RKtOjHF",
        "colab_type": "code",
        "colab": {
          "base_uri": "https://localhost:8080/",
          "height": 153
        },
        "outputId": "6e90b99a-6188-41e0-c5c3-c214095d5117"
      },
      "cell_type": "code",
      "source": [
        "##Load fashion Mnist from the Keras Data Set \n",
        "fashion_mnist = keras.datasets.fashion_mnist\n",
        "\n",
        "(train_images, train_labels), (test_images, test_labels) = fashion_mnist.load_data()"
      ],
      "execution_count": 2,
      "outputs": [
        {
          "output_type": "stream",
          "text": [
            "Downloading data from https://storage.googleapis.com/tensorflow/tf-keras-datasets/train-labels-idx1-ubyte.gz\n",
            "32768/29515 [=================================] - 0s 0us/step\n",
            "Downloading data from https://storage.googleapis.com/tensorflow/tf-keras-datasets/train-images-idx3-ubyte.gz\n",
            "26427392/26421880 [==============================] - 0s 0us/step\n",
            "Downloading data from https://storage.googleapis.com/tensorflow/tf-keras-datasets/t10k-labels-idx1-ubyte.gz\n",
            "8192/5148 [===============================================] - 0s 0us/step\n",
            "Downloading data from https://storage.googleapis.com/tensorflow/tf-keras-datasets/t10k-images-idx3-ubyte.gz\n",
            "4423680/4422102 [==============================] - 0s 0us/step\n"
          ],
          "name": "stdout"
        }
      ]
    },
    {
      "metadata": {
        "id": "KtYDHosLSlb8",
        "colab_type": "code",
        "colab": {}
      },
      "cell_type": "code",
      "source": [
        "##Add class names to the images after doing research on the Fashion MNEST data set\n",
        "class_names = ['T-shirt/top', 'Trouser', 'Pullover', 'Dress', 'Coat', \n",
        "               'Sandal', 'Shirt', 'Sneaker', 'Bag', 'Ankle boot']"
      ],
      "execution_count": 0,
      "outputs": []
    },
    {
      "metadata": {
        "id": "y3fS52uES5-L",
        "colab_type": "code",
        "outputId": "4ba38c3f-afb9-4b62-ce2a-a7d75c4f765c",
        "colab": {
          "base_uri": "https://localhost:8080/",
          "height": 34
        }
      },
      "cell_type": "code",
      "source": [
        "##Look at the shape of the Train Data Set\n",
        "train_images.shape"
      ],
      "execution_count": 4,
      "outputs": [
        {
          "output_type": "execute_result",
          "data": {
            "text/plain": [
              "(60000, 28, 28)"
            ]
          },
          "metadata": {
            "tags": []
          },
          "execution_count": 4
        }
      ]
    },
    {
      "metadata": {
        "id": "BoCPJ7HJTrFT",
        "colab_type": "code",
        "outputId": "60bb69c1-59b7-4304-d9af-8c64161b85d6",
        "colab": {
          "base_uri": "https://localhost:8080/",
          "height": 34
        }
      },
      "cell_type": "code",
      "source": [
        "##Look at the shape of the Test Data Set\n",
        "test_images.shape"
      ],
      "execution_count": 5,
      "outputs": [
        {
          "output_type": "execute_result",
          "data": {
            "text/plain": [
              "(10000, 28, 28)"
            ]
          },
          "metadata": {
            "tags": []
          },
          "execution_count": 5
        }
      ]
    },
    {
      "metadata": {
        "id": "RVgED2S7T3iv",
        "colab_type": "code",
        "outputId": "2649e16f-3448-462d-d99a-398b8c83c09b",
        "colab": {
          "base_uri": "https://localhost:8080/",
          "height": 265
        }
      },
      "cell_type": "code",
      "source": [
        "##Look at sample image to see pixel size\n",
        "plt.figure()\n",
        "plt.imshow(train_images[0])\n",
        "plt.colorbar()\n",
        "plt.grid(False)\n",
        "plt.show()"
      ],
      "execution_count": 6,
      "outputs": [
        {
          "output_type": "display_data",
          "data": {
            "image/png": "[encoded data removed]",
            "text/plain": [
              "<Figure size 432x288 with 2 Axes>"
            ]
          },
          "metadata": {
            "tags": []
          }
        }
      ]
    },
    {
      "metadata": {
        "id": "ybquPbiHULfl",
        "colab_type": "code",
        "colab": {}
      },
      "cell_type": "code",
      "source": [
        "##Reshape Pixel to between 0 and 1 in Training and Test Set\n",
        "train_images = train_images / 255.0\n",
        "\n",
        "test_images = test_images / 255.0"
      ],
      "execution_count": 0,
      "outputs": []
    },
    {
      "metadata": {
        "id": "eycgNrI3U8mI",
        "colab_type": "code",
        "outputId": "db973776-4ea1-4a31-f7ee-3a736a5efdbf",
        "colab": {
          "base_uri": "https://localhost:8080/",
          "height": 589
        }
      },
      "cell_type": "code",
      "source": [
        "#Plot the first 25 images in the train data set with the class labels\n",
        "plt.figure(figsize=(10,10))\n",
        "for i in range(25):\n",
        "    plt.subplot(5,5,i+1)\n",
        "    plt.xticks([])\n",
        "    plt.yticks([])\n",
        "    plt.grid(False)\n",
        "    plt.imshow(train_images[i], cmap=plt.cm.binary)\n",
        "    plt.xlabel(class_names[train_labels[i]])\n",
        "plt.show()"
      ],
      "execution_count": 8,
      "outputs": [
        {
          "output_type": "display_data",
          "data": {
            "image/png": "[encoded data removed]",
            "text/plain": [
              "<Figure size 720x720 with 25 Axes>"
            ]
          },
          "metadata": {
            "tags": []
          }
        }
      ]
    },
    {
      "metadata": {
        "id": "ZLwbacHfVIEY",
        "colab_type": "code",
        "colab": {
          "base_uri": "https://localhost:8080/",
          "height": 68
        },
        "outputId": "1d58758c-0b26-4dcb-f353-a8f9bee1bd35"
      },
      "cell_type": "code",
      "source": [
        "##set up layers\n",
        "model = keras.Sequential([\n",
        "    keras.layers.Flatten(input_shape=(28, 28)),\n",
        "    keras.layers.Dense(128, activation=tf.nn.relu),\n",
        "    keras.layers.Dense(10, activation=tf.nn.softmax)\n",
        "])"
      ],
      "execution_count": 9,
      "outputs": [
        {
          "output_type": "stream",
          "text": [
            "WARNING:tensorflow:From /usr/local/lib/python3.6/dist-packages/tensorflow/python/ops/resource_variable_ops.py:435: colocate_with (from tensorflow.python.framework.ops) is deprecated and will be removed in a future version.\n",
            "Instructions for updating:\n",
            "Colocations handled automatically by placer.\n"
          ],
          "name": "stdout"
        }
      ]
    },
    {
      "metadata": {
        "id": "v6_JxlFIW0_v",
        "colab_type": "code",
        "colab": {}
      },
      "cell_type": "code",
      "source": [
        "##compile model\n",
        "model.compile(optimizer='adam', \n",
        "              loss='sparse_categorical_crossentropy',\n",
        "              metrics=['accuracy'])"
      ],
      "execution_count": 0,
      "outputs": []
    },
    {
      "metadata": {
        "id": "x8JCkYYQXB2y",
        "colab_type": "code",
        "outputId": "f8a19f44-43af-4598-a2f9-b1be784ab85c",
        "colab": {
          "base_uri": "https://localhost:8080/",
          "height": 884
        }
      },
      "cell_type": "code",
      "source": [
        "##Train Model\n",
        "model.fit(train_images, train_labels, epochs=25)"
      ],
      "execution_count": 11,
      "outputs": [
        {
          "output_type": "stream",
          "text": [
            "Epoch 1/25\n",
            "60000/60000 [==============================] - 8s 139us/sample - loss: 0.4947 - acc: 0.8282\n",
            "Epoch 2/25\n",
            "60000/60000 [==============================] - 7s 123us/sample - loss: 0.3710 - acc: 0.8663\n",
            "Epoch 3/25\n",
            "60000/60000 [==============================] - 7s 124us/sample - loss: 0.3329 - acc: 0.8791\n",
            "Epoch 4/25\n",
            "60000/60000 [==============================] - 7s 123us/sample - loss: 0.3106 - acc: 0.8862\n",
            "Epoch 5/25\n",
            "60000/60000 [==============================] - 7s 124us/sample - loss: 0.2947 - acc: 0.8932\n",
            "Epoch 6/25\n",
            "60000/60000 [==============================] - 7s 123us/sample - loss: 0.2787 - acc: 0.8966\n",
            "Epoch 7/25\n",
            "60000/60000 [==============================] - 7s 122us/sample - loss: 0.2655 - acc: 0.9020\n",
            "Epoch 8/25\n",
            "60000/60000 [==============================] - 7s 122us/sample - loss: 0.2569 - acc: 0.9046\n",
            "Epoch 9/25\n",
            "60000/60000 [==============================] - 7s 123us/sample - loss: 0.2460 - acc: 0.9071\n",
            "Epoch 10/25\n",
            "60000/60000 [==============================] - 7s 123us/sample - loss: 0.2390 - acc: 0.9096\n",
            "Epoch 11/25\n",
            "60000/60000 [==============================] - 7s 123us/sample - loss: 0.2296 - acc: 0.9135\n",
            "Epoch 12/25\n",
            "60000/60000 [==============================] - 7s 123us/sample - loss: 0.2239 - acc: 0.9151\n",
            "Epoch 13/25\n",
            "60000/60000 [==============================] - 8s 125us/sample - loss: 0.2150 - acc: 0.9196\n",
            "Epoch 14/25\n",
            "60000/60000 [==============================] - 7s 125us/sample - loss: 0.2104 - acc: 0.9211\n",
            "Epoch 15/25\n",
            "60000/60000 [==============================] - 7s 123us/sample - loss: 0.2047 - acc: 0.9233\n",
            "Epoch 16/25\n",
            "60000/60000 [==============================] - 7s 124us/sample - loss: 0.1971 - acc: 0.9258\n",
            "Epoch 17/25\n",
            "60000/60000 [==============================] - 7s 123us/sample - loss: 0.1925 - acc: 0.9275\n",
            "Epoch 18/25\n",
            "60000/60000 [==============================] - 7s 123us/sample - loss: 0.1886 - acc: 0.9301\n",
            "Epoch 19/25\n",
            "60000/60000 [==============================] - 7s 122us/sample - loss: 0.1839 - acc: 0.9308\n",
            "Epoch 20/25\n",
            "60000/60000 [==============================] - 7s 122us/sample - loss: 0.1779 - acc: 0.9326\n",
            "Epoch 21/25\n",
            "60000/60000 [==============================] - 8s 126us/sample - loss: 0.1766 - acc: 0.9340\n",
            "Epoch 22/25\n",
            "60000/60000 [==============================] - 7s 123us/sample - loss: 0.1700 - acc: 0.9362\n",
            "Epoch 23/25\n",
            "60000/60000 [==============================] - 7s 123us/sample - loss: 0.1661 - acc: 0.9374\n",
            "Epoch 24/25\n",
            "60000/60000 [==============================] - 7s 123us/sample - loss: 0.1620 - acc: 0.9396\n",
            "Epoch 25/25\n",
            "60000/60000 [==============================] - 7s 123us/sample - loss: 0.1582 - acc: 0.9410\n"
          ],
          "name": "stdout"
        },
        {
          "output_type": "execute_result",
          "data": {
            "text/plain": [
              "<tensorflow.python.keras.callbacks.History at 0x7faa3e3d66d8>"
            ]
          },
          "metadata": {
            "tags": []
          },
          "execution_count": 11
        }
      ]
    },
    {
      "metadata": {
        "id": "XUB0JGcdnvoH",
        "colab_type": "code",
        "colab": {
          "base_uri": "https://localhost:8080/",
          "height": 51
        },
        "outputId": "ecde6f68-30bc-47a8-9706-7fa96d2026b3"
      },
      "cell_type": "code",
      "source": [
        "##Evaluate Test Accuracy\n",
        "train_loss, train_acc = model.evaluate(train_images, train_labels)\n",
        "print('Train accuracy:', train_acc)"
      ],
      "execution_count": 16,
      "outputs": [
        {
          "output_type": "stream",
          "text": [
            "60000/60000 [==============================] - 4s 67us/sample - loss: 0.1196 - acc: 0.9556\n",
            "Train accuracy: 0.95561665\n"
          ],
          "name": "stdout"
        }
      ]
    },
    {
      "metadata": {
        "id": "cD3EyWoNbu-P",
        "colab_type": "code",
        "outputId": "b9d10b1c-b174-41a1-f85e-1edeb163d29f",
        "colab": {
          "base_uri": "https://localhost:8080/",
          "height": 51
        }
      },
      "cell_type": "code",
      "source": [
        "##Evaluate Test Accuracy\n",
        "test_loss, test_acc = model.evaluate(test_images, test_labels)\n",
        "\n",
        "print('Test accuracy:', test_acc)"
      ],
      "execution_count": 15,
      "outputs": [
        {
          "output_type": "stream",
          "text": [
            "10000/10000 [==============================] - 1s 62us/sample - loss: 0.3948 - acc: 0.8904\n",
            "Test accuracy: 0.8904\n"
          ],
          "name": "stdout"
        }
      ]
    },
    {
      "metadata": {
        "id": "_6wVItFtposB",
        "colab_type": "code",
        "colab": {
          "base_uri": "https://localhost:8080/",
          "height": 10868
        },
        "outputId": "939cbc38-7c9a-4c5c-ceb1-bf8345dbe8f6"
      },
      "cell_type": "code",
      "source": [
        "# FIT THE MODEL\n",
        "\n",
        "history  = model.fit(train_images, train_labels, validation_data=(test_images, test_labels), epochs=300, batch_size=1000, verbose=2)\n",
        "\n",
        "\n",
        "def plot_train_curve(history):\n",
        "    colors = ['#e66101','#fdb863','#b2abd2','#5e3c99']\n",
        "    accuracy = history.history['acc']\n",
        "    val_accuracy = history.history['val_acc']\n",
        "    loss = history.history['loss']\n",
        "    val_loss = history.history['val_loss']\n",
        "    epochs = range(len(accuracy))\n",
        "    with plt.style.context(\"ggplot\"):\n",
        "        plt.figure(figsize=(8, 8/1.618))\n",
        "        plt.plot(epochs, accuracy, marker='o', c=colors[3], label='Training accuracy')\n",
        "        plt.plot(epochs, val_accuracy, c=colors[0], label='Validation accuracy')\n",
        "        plt.title('Training and validation accuracy')\n",
        "        plt.legend()\n",
        "        plt.figure(figsize=(8, 8/1.618))\n",
        "        plt.plot(epochs, loss, marker='o', c=colors[3], label='Training loss')\n",
        "        plt.plot(epochs, val_loss, c=colors[0], label='Validation loss')\n",
        "        plt.title('Training and validation loss')\n",
        "        plt.legend()\n",
        "        plt.show()\n",
        "    \n",
        "plot_train_curve(history)"
      ],
      "execution_count": 15,
      "outputs": [
        {
          "output_type": "stream",
          "text": [
            "Train on 60000 samples, validate on 10000 samples\n",
            "Epoch 1/300\n",
            " - 1s - loss: 0.1329 - acc: 0.9510 - val_loss: 0.3480 - val_acc: 0.8963\n",
            "Epoch 2/300\n",
            " - 0s - loss: 0.1169 - acc: 0.9588 - val_loss: 0.3519 - val_acc: 0.8947\n",
            "Epoch 3/300\n",
            " - 1s - loss: 0.1141 - acc: 0.9593 - val_loss: 0.3529 - val_acc: 0.8951\n",
            "Epoch 4/300\n",
            " - 1s - loss: 0.1129 - acc: 0.9600 - val_loss: 0.3544 - val_acc: 0.8956\n",
            "Epoch 5/300\n",
            " - 0s - loss: 0.1118 - acc: 0.9606 - val_loss: 0.3553 - val_acc: 0.8960\n",
            "Epoch 6/300\n",
            " - 0s - loss: 0.1111 - acc: 0.9611 - val_loss: 0.3559 - val_acc: 0.8964\n",
            "Epoch 7/300\n",
            " - 0s - loss: 0.1105 - acc: 0.9613 - val_loss: 0.3557 - val_acc: 0.8958\n",
            "Epoch 8/300\n",
            " - 0s - loss: 0.1097 - acc: 0.9618 - val_loss: 0.3567 - val_acc: 0.8976\n",
            "Epoch 9/300\n",
            " - 0s - loss: 0.1093 - acc: 0.9617 - val_loss: 0.3566 - val_acc: 0.8963\n",
            "Epoch 10/300\n",
            " - 0s - loss: 0.1088 - acc: 0.9615 - val_loss: 0.3581 - val_acc: 0.8962\n",
            "Epoch 11/300\n",
            " - 0s - loss: 0.1084 - acc: 0.9623 - val_loss: 0.3571 - val_acc: 0.8966\n",
            "Epoch 12/300\n",
            " - 0s - loss: 0.1078 - acc: 0.9623 - val_loss: 0.3571 - val_acc: 0.8954\n",
            "Epoch 13/300\n",
            " - 0s - loss: 0.1074 - acc: 0.9622 - val_loss: 0.3596 - val_acc: 0.8964\n",
            "Epoch 14/300\n",
            " - 0s - loss: 0.1070 - acc: 0.9628 - val_loss: 0.3582 - val_acc: 0.8960\n",
            "Epoch 15/300\n",
            " - 0s - loss: 0.1065 - acc: 0.9624 - val_loss: 0.3599 - val_acc: 0.8965\n",
            "Epoch 16/300\n",
            " - 0s - loss: 0.1058 - acc: 0.9629 - val_loss: 0.3597 - val_acc: 0.8959\n",
            "Epoch 17/300\n",
            " - 0s - loss: 0.1053 - acc: 0.9635 - val_loss: 0.3620 - val_acc: 0.8966\n",
            "Epoch 18/300\n",
            " - 0s - loss: 0.1050 - acc: 0.9638 - val_loss: 0.3602 - val_acc: 0.8962\n",
            "Epoch 19/300\n",
            " - 0s - loss: 0.1045 - acc: 0.9634 - val_loss: 0.3623 - val_acc: 0.8962\n",
            "Epoch 20/300\n",
            " - 0s - loss: 0.1040 - acc: 0.9639 - val_loss: 0.3614 - val_acc: 0.8969\n",
            "Epoch 21/300\n",
            " - 0s - loss: 0.1035 - acc: 0.9645 - val_loss: 0.3631 - val_acc: 0.8961\n",
            "Epoch 22/300\n",
            " - 0s - loss: 0.1031 - acc: 0.9643 - val_loss: 0.3641 - val_acc: 0.8961\n",
            "Epoch 23/300\n",
            " - 0s - loss: 0.1023 - acc: 0.9642 - val_loss: 0.3678 - val_acc: 0.8959\n",
            "Epoch 24/300\n",
            " - 0s - loss: 0.1022 - acc: 0.9646 - val_loss: 0.3646 - val_acc: 0.8969\n",
            "Epoch 25/300\n",
            " - 0s - loss: 0.1014 - acc: 0.9650 - val_loss: 0.3646 - val_acc: 0.8962\n",
            "Epoch 26/300\n",
            " - 0s - loss: 0.1010 - acc: 0.9654 - val_loss: 0.3651 - val_acc: 0.8955\n",
            "Epoch 27/300\n",
            " - 0s - loss: 0.1006 - acc: 0.9657 - val_loss: 0.3648 - val_acc: 0.8960\n",
            "Epoch 28/300\n",
            " - 0s - loss: 0.0999 - acc: 0.9655 - val_loss: 0.3682 - val_acc: 0.8952\n",
            "Epoch 29/300\n",
            " - 0s - loss: 0.0996 - acc: 0.9654 - val_loss: 0.3671 - val_acc: 0.8969\n",
            "Epoch 30/300\n",
            " - 0s - loss: 0.0991 - acc: 0.9660 - val_loss: 0.3699 - val_acc: 0.8959\n",
            "Epoch 31/300\n",
            " - 0s - loss: 0.0982 - acc: 0.9663 - val_loss: 0.3706 - val_acc: 0.8973\n",
            "Epoch 32/300\n",
            " - 0s - loss: 0.0980 - acc: 0.9664 - val_loss: 0.3702 - val_acc: 0.8963\n",
            "Epoch 33/300\n",
            " - 0s - loss: 0.0979 - acc: 0.9663 - val_loss: 0.3718 - val_acc: 0.8962\n",
            "Epoch 34/300\n",
            " - 0s - loss: 0.0966 - acc: 0.9668 - val_loss: 0.3726 - val_acc: 0.8953\n",
            "Epoch 35/300\n",
            " - 0s - loss: 0.0966 - acc: 0.9667 - val_loss: 0.3716 - val_acc: 0.8961\n",
            "Epoch 36/300\n",
            " - 0s - loss: 0.0955 - acc: 0.9674 - val_loss: 0.3735 - val_acc: 0.8955\n",
            "Epoch 37/300\n",
            " - 0s - loss: 0.0952 - acc: 0.9677 - val_loss: 0.3735 - val_acc: 0.8992\n",
            "Epoch 38/300\n",
            " - 0s - loss: 0.0946 - acc: 0.9676 - val_loss: 0.3736 - val_acc: 0.8985\n",
            "Epoch 39/300\n",
            " - 0s - loss: 0.0944 - acc: 0.9676 - val_loss: 0.3760 - val_acc: 0.8960\n",
            "Epoch 40/300\n",
            " - 0s - loss: 0.0933 - acc: 0.9685 - val_loss: 0.3745 - val_acc: 0.8951\n",
            "Epoch 41/300\n",
            " - 0s - loss: 0.0930 - acc: 0.9683 - val_loss: 0.3785 - val_acc: 0.8971\n",
            "Epoch 42/300\n",
            " - 0s - loss: 0.0921 - acc: 0.9685 - val_loss: 0.3800 - val_acc: 0.8963\n",
            "Epoch 43/300\n",
            " - 0s - loss: 0.0917 - acc: 0.9683 - val_loss: 0.3819 - val_acc: 0.8980\n",
            "Epoch 44/300\n",
            " - 0s - loss: 0.0909 - acc: 0.9694 - val_loss: 0.3803 - val_acc: 0.8977\n",
            "Epoch 45/300\n",
            " - 0s - loss: 0.0903 - acc: 0.9688 - val_loss: 0.3831 - val_acc: 0.8983\n",
            "Epoch 46/300\n",
            " - 0s - loss: 0.0898 - acc: 0.9699 - val_loss: 0.3838 - val_acc: 0.8993\n",
            "Epoch 47/300\n",
            " - 0s - loss: 0.0898 - acc: 0.9693 - val_loss: 0.3838 - val_acc: 0.8979\n",
            "Epoch 48/300\n",
            " - 0s - loss: 0.0887 - acc: 0.9700 - val_loss: 0.3855 - val_acc: 0.8954\n",
            "Epoch 49/300\n",
            " - 0s - loss: 0.0877 - acc: 0.9709 - val_loss: 0.3873 - val_acc: 0.8972\n",
            "Epoch 50/300\n",
            " - 0s - loss: 0.0874 - acc: 0.9711 - val_loss: 0.3850 - val_acc: 0.8964\n",
            "Epoch 51/300\n",
            " - 0s - loss: 0.0866 - acc: 0.9710 - val_loss: 0.3886 - val_acc: 0.8988\n",
            "Epoch 52/300\n",
            " - 0s - loss: 0.0855 - acc: 0.9714 - val_loss: 0.3911 - val_acc: 0.8967\n",
            "Epoch 53/300\n",
            " - 0s - loss: 0.0850 - acc: 0.9716 - val_loss: 0.3915 - val_acc: 0.8973\n",
            "Epoch 54/300\n",
            " - 0s - loss: 0.0854 - acc: 0.9712 - val_loss: 0.3909 - val_acc: 0.8966\n",
            "Epoch 55/300\n",
            " - 1s - loss: 0.0843 - acc: 0.9721 - val_loss: 0.3961 - val_acc: 0.8962\n",
            "Epoch 56/300\n",
            " - 0s - loss: 0.0835 - acc: 0.9725 - val_loss: 0.3948 - val_acc: 0.8961\n",
            "Epoch 57/300\n",
            " - 0s - loss: 0.0828 - acc: 0.9720 - val_loss: 0.3969 - val_acc: 0.8976\n",
            "Epoch 58/300\n",
            " - 0s - loss: 0.0819 - acc: 0.9727 - val_loss: 0.3961 - val_acc: 0.8969\n",
            "Epoch 59/300\n",
            " - 1s - loss: 0.0811 - acc: 0.9729 - val_loss: 0.3989 - val_acc: 0.8961\n",
            "Epoch 60/300\n",
            " - 0s - loss: 0.0808 - acc: 0.9734 - val_loss: 0.3981 - val_acc: 0.8971\n",
            "Epoch 61/300\n",
            " - 0s - loss: 0.0791 - acc: 0.9740 - val_loss: 0.4028 - val_acc: 0.8972\n",
            "Epoch 62/300\n",
            " - 0s - loss: 0.0789 - acc: 0.9742 - val_loss: 0.4104 - val_acc: 0.8953\n",
            "Epoch 63/300\n",
            " - 0s - loss: 0.0792 - acc: 0.9733 - val_loss: 0.4002 - val_acc: 0.8982\n",
            "Epoch 64/300\n",
            " - 0s - loss: 0.0774 - acc: 0.9749 - val_loss: 0.4050 - val_acc: 0.8959\n",
            "Epoch 65/300\n",
            " - 0s - loss: 0.0769 - acc: 0.9752 - val_loss: 0.4082 - val_acc: 0.8952\n",
            "Epoch 66/300\n",
            " - 0s - loss: 0.0758 - acc: 0.9749 - val_loss: 0.4087 - val_acc: 0.8968\n",
            "Epoch 67/300\n",
            " - 0s - loss: 0.0752 - acc: 0.9757 - val_loss: 0.4109 - val_acc: 0.8960\n",
            "Epoch 68/300\n",
            " - 0s - loss: 0.0752 - acc: 0.9747 - val_loss: 0.4126 - val_acc: 0.8939\n",
            "Epoch 69/300\n",
            " - 0s - loss: 0.0751 - acc: 0.9751 - val_loss: 0.4158 - val_acc: 0.8976\n",
            "Epoch 70/300\n",
            " - 0s - loss: 0.0732 - acc: 0.9764 - val_loss: 0.4157 - val_acc: 0.8976\n",
            "Epoch 71/300\n",
            " - 0s - loss: 0.0727 - acc: 0.9766 - val_loss: 0.4165 - val_acc: 0.8979\n",
            "Epoch 72/300\n",
            " - 0s - loss: 0.0721 - acc: 0.9762 - val_loss: 0.4207 - val_acc: 0.8967\n",
            "Epoch 73/300\n",
            " - 0s - loss: 0.0709 - acc: 0.9771 - val_loss: 0.4206 - val_acc: 0.8971\n",
            "Epoch 74/300\n",
            " - 0s - loss: 0.0703 - acc: 0.9780 - val_loss: 0.4207 - val_acc: 0.8963\n",
            "Epoch 75/300\n",
            " - 0s - loss: 0.0694 - acc: 0.9777 - val_loss: 0.4326 - val_acc: 0.8937\n",
            "Epoch 76/300\n",
            " - 0s - loss: 0.0708 - acc: 0.9761 - val_loss: 0.4275 - val_acc: 0.8980\n",
            "Epoch 77/300\n",
            " - 0s - loss: 0.0683 - acc: 0.9777 - val_loss: 0.4296 - val_acc: 0.8956\n",
            "Epoch 78/300\n",
            " - 0s - loss: 0.0673 - acc: 0.9782 - val_loss: 0.4318 - val_acc: 0.8961\n",
            "Epoch 79/300\n",
            " - 0s - loss: 0.0667 - acc: 0.9779 - val_loss: 0.4338 - val_acc: 0.8953\n",
            "Epoch 80/300\n",
            " - 0s - loss: 0.0655 - acc: 0.9792 - val_loss: 0.4371 - val_acc: 0.8954\n",
            "Epoch 81/300\n",
            " - 0s - loss: 0.0646 - acc: 0.9797 - val_loss: 0.4407 - val_acc: 0.8939\n",
            "Epoch 82/300\n",
            " - 1s - loss: 0.0655 - acc: 0.9782 - val_loss: 0.4347 - val_acc: 0.8945\n",
            "Epoch 83/300\n",
            " - 0s - loss: 0.0642 - acc: 0.9793 - val_loss: 0.4373 - val_acc: 0.8965\n",
            "Epoch 84/300\n",
            " - 0s - loss: 0.0638 - acc: 0.9796 - val_loss: 0.4431 - val_acc: 0.8926\n",
            "Epoch 85/300\n",
            " - 0s - loss: 0.0624 - acc: 0.9799 - val_loss: 0.4498 - val_acc: 0.8948\n",
            "Epoch 86/300\n",
            " - 0s - loss: 0.0615 - acc: 0.9807 - val_loss: 0.4485 - val_acc: 0.8959\n",
            "Epoch 87/300\n",
            " - 0s - loss: 0.0610 - acc: 0.9804 - val_loss: 0.4501 - val_acc: 0.8958\n",
            "Epoch 88/300\n",
            " - 0s - loss: 0.0598 - acc: 0.9814 - val_loss: 0.4504 - val_acc: 0.8965\n",
            "Epoch 89/300\n",
            " - 0s - loss: 0.0593 - acc: 0.9814 - val_loss: 0.4564 - val_acc: 0.8932\n",
            "Epoch 90/300\n",
            " - 0s - loss: 0.0588 - acc: 0.9814 - val_loss: 0.4544 - val_acc: 0.8952\n",
            "Epoch 91/300\n",
            " - 0s - loss: 0.0586 - acc: 0.9817 - val_loss: 0.4587 - val_acc: 0.8906\n",
            "Epoch 92/300\n",
            " - 0s - loss: 0.0578 - acc: 0.9812 - val_loss: 0.4589 - val_acc: 0.8927\n",
            "Epoch 93/300\n",
            " - 0s - loss: 0.0562 - acc: 0.9825 - val_loss: 0.4622 - val_acc: 0.8943\n",
            "Epoch 94/300\n",
            " - 0s - loss: 0.0563 - acc: 0.9825 - val_loss: 0.4588 - val_acc: 0.8943\n",
            "Epoch 95/300\n",
            " - 0s - loss: 0.0553 - acc: 0.9826 - val_loss: 0.4679 - val_acc: 0.8939\n",
            "Epoch 96/300\n",
            " - 0s - loss: 0.0551 - acc: 0.9828 - val_loss: 0.4688 - val_acc: 0.8940\n",
            "Epoch 97/300\n",
            " - 0s - loss: 0.0540 - acc: 0.9833 - val_loss: 0.4715 - val_acc: 0.8959\n",
            "Epoch 98/300\n",
            " - 0s - loss: 0.0544 - acc: 0.9834 - val_loss: 0.4687 - val_acc: 0.8942\n",
            "Epoch 99/300\n",
            " - 0s - loss: 0.0527 - acc: 0.9836 - val_loss: 0.4740 - val_acc: 0.8936\n",
            "Epoch 100/300\n",
            " - 0s - loss: 0.0517 - acc: 0.9842 - val_loss: 0.4748 - val_acc: 0.8951\n",
            "Epoch 101/300\n",
            " - 0s - loss: 0.0520 - acc: 0.9845 - val_loss: 0.4830 - val_acc: 0.8935\n",
            "Epoch 102/300\n",
            " - 0s - loss: 0.0510 - acc: 0.9842 - val_loss: 0.4815 - val_acc: 0.8948\n",
            "Epoch 103/300\n",
            " - 0s - loss: 0.0498 - acc: 0.9853 - val_loss: 0.4818 - val_acc: 0.8925\n",
            "Epoch 104/300\n",
            " - 0s - loss: 0.0503 - acc: 0.9853 - val_loss: 0.4843 - val_acc: 0.8968\n",
            "Epoch 105/300\n",
            " - 0s - loss: 0.0498 - acc: 0.9848 - val_loss: 0.4832 - val_acc: 0.8920\n",
            "Epoch 106/300\n",
            " - 0s - loss: 0.0477 - acc: 0.9859 - val_loss: 0.4859 - val_acc: 0.8933\n",
            "Epoch 107/300\n",
            " - 1s - loss: 0.0479 - acc: 0.9855 - val_loss: 0.4956 - val_acc: 0.8900\n",
            "Epoch 108/300\n",
            " - 0s - loss: 0.0476 - acc: 0.9855 - val_loss: 0.4959 - val_acc: 0.8927\n",
            "Epoch 109/300\n",
            " - 0s - loss: 0.0479 - acc: 0.9856 - val_loss: 0.4978 - val_acc: 0.8941\n",
            "Epoch 110/300\n",
            " - 0s - loss: 0.0456 - acc: 0.9864 - val_loss: 0.4980 - val_acc: 0.8914\n",
            "Epoch 111/300\n",
            " - 0s - loss: 0.0450 - acc: 0.9867 - val_loss: 0.4999 - val_acc: 0.8935\n",
            "Epoch 112/300\n",
            " - 0s - loss: 0.0442 - acc: 0.9871 - val_loss: 0.4976 - val_acc: 0.8939\n",
            "Epoch 113/300\n",
            " - 0s - loss: 0.0438 - acc: 0.9874 - val_loss: 0.5033 - val_acc: 0.8931\n",
            "Epoch 114/300\n",
            " - 0s - loss: 0.0437 - acc: 0.9869 - val_loss: 0.5076 - val_acc: 0.8943\n",
            "Epoch 115/300\n",
            " - 0s - loss: 0.0435 - acc: 0.9876 - val_loss: 0.5063 - val_acc: 0.8931\n",
            "Epoch 116/300\n",
            " - 0s - loss: 0.0429 - acc: 0.9875 - val_loss: 0.5125 - val_acc: 0.8950\n",
            "Epoch 117/300\n",
            " - 0s - loss: 0.0418 - acc: 0.9882 - val_loss: 0.5123 - val_acc: 0.8936\n",
            "Epoch 118/300\n",
            " - 0s - loss: 0.0408 - acc: 0.9882 - val_loss: 0.5088 - val_acc: 0.8948\n",
            "Epoch 119/300\n",
            " - 0s - loss: 0.0418 - acc: 0.9875 - val_loss: 0.5133 - val_acc: 0.8947\n",
            "Epoch 120/300\n",
            " - 0s - loss: 0.0402 - acc: 0.9888 - val_loss: 0.5211 - val_acc: 0.8943\n",
            "Epoch 121/300\n",
            " - 0s - loss: 0.0395 - acc: 0.9887 - val_loss: 0.5303 - val_acc: 0.8906\n",
            "Epoch 122/300\n",
            " - 0s - loss: 0.0396 - acc: 0.9888 - val_loss: 0.5247 - val_acc: 0.8931\n",
            "Epoch 123/300\n",
            " - 0s - loss: 0.0391 - acc: 0.9887 - val_loss: 0.5295 - val_acc: 0.8918\n",
            "Epoch 124/300\n",
            " - 0s - loss: 0.0381 - acc: 0.9888 - val_loss: 0.5327 - val_acc: 0.8927\n",
            "Epoch 125/300\n",
            " - 0s - loss: 0.0382 - acc: 0.9891 - val_loss: 0.5426 - val_acc: 0.8925\n",
            "Epoch 126/300\n",
            " - 0s - loss: 0.0393 - acc: 0.9884 - val_loss: 0.5362 - val_acc: 0.8922\n",
            "Epoch 127/300\n",
            " - 0s - loss: 0.0388 - acc: 0.9887 - val_loss: 0.5362 - val_acc: 0.8924\n",
            "Epoch 128/300\n",
            " - 0s - loss: 0.0368 - acc: 0.9895 - val_loss: 0.5398 - val_acc: 0.8928\n",
            "Epoch 129/300\n",
            " - 0s - loss: 0.0360 - acc: 0.9900 - val_loss: 0.5436 - val_acc: 0.8943\n",
            "Epoch 130/300\n",
            " - 0s - loss: 0.0350 - acc: 0.9902 - val_loss: 0.5391 - val_acc: 0.8936\n",
            "Epoch 131/300\n",
            " - 0s - loss: 0.0344 - acc: 0.9906 - val_loss: 0.5479 - val_acc: 0.8929\n",
            "Epoch 132/300\n",
            " - 0s - loss: 0.0348 - acc: 0.9903 - val_loss: 0.5587 - val_acc: 0.8922\n",
            "Epoch 133/300\n",
            " - 0s - loss: 0.0347 - acc: 0.9901 - val_loss: 0.5527 - val_acc: 0.8922\n",
            "Epoch 134/300\n",
            " - 0s - loss: 0.0346 - acc: 0.9900 - val_loss: 0.5608 - val_acc: 0.8925\n",
            "Epoch 135/300\n",
            " - 0s - loss: 0.0344 - acc: 0.9902 - val_loss: 0.5580 - val_acc: 0.8914\n",
            "Epoch 136/300\n",
            " - 0s - loss: 0.0342 - acc: 0.9902 - val_loss: 0.5585 - val_acc: 0.8903\n",
            "Epoch 137/300\n",
            " - 0s - loss: 0.0319 - acc: 0.9913 - val_loss: 0.5575 - val_acc: 0.8931\n",
            "Epoch 138/300\n",
            " - 0s - loss: 0.0322 - acc: 0.9913 - val_loss: 0.5587 - val_acc: 0.8934\n",
            "Epoch 139/300\n",
            " - 0s - loss: 0.0309 - acc: 0.9916 - val_loss: 0.5680 - val_acc: 0.8920\n",
            "Epoch 140/300\n",
            " - 0s - loss: 0.0315 - acc: 0.9917 - val_loss: 0.5618 - val_acc: 0.8923\n",
            "Epoch 141/300\n",
            " - 0s - loss: 0.0312 - acc: 0.9919 - val_loss: 0.5705 - val_acc: 0.8931\n",
            "Epoch 142/300\n",
            " - 0s - loss: 0.0305 - acc: 0.9919 - val_loss: 0.5755 - val_acc: 0.8918\n",
            "Epoch 143/300\n",
            " - 0s - loss: 0.0304 - acc: 0.9917 - val_loss: 0.5752 - val_acc: 0.8912\n",
            "Epoch 144/300\n",
            " - 0s - loss: 0.0305 - acc: 0.9916 - val_loss: 0.5764 - val_acc: 0.8928\n",
            "Epoch 145/300\n",
            " - 0s - loss: 0.0303 - acc: 0.9918 - val_loss: 0.5820 - val_acc: 0.8891\n",
            "Epoch 146/300\n",
            " - 0s - loss: 0.0288 - acc: 0.9923 - val_loss: 0.5855 - val_acc: 0.8912\n",
            "Epoch 147/300\n",
            " - 0s - loss: 0.0283 - acc: 0.9924 - val_loss: 0.5844 - val_acc: 0.8924\n",
            "Epoch 148/300\n",
            " - 0s - loss: 0.0295 - acc: 0.9919 - val_loss: 0.5984 - val_acc: 0.8902\n",
            "Epoch 149/300\n",
            " - 0s - loss: 0.0287 - acc: 0.9923 - val_loss: 0.5883 - val_acc: 0.8914\n",
            "Epoch 150/300\n",
            " - 0s - loss: 0.0275 - acc: 0.9927 - val_loss: 0.5969 - val_acc: 0.8904\n",
            "Epoch 151/300\n",
            " - 0s - loss: 0.0273 - acc: 0.9925 - val_loss: 0.5939 - val_acc: 0.8896\n",
            "Epoch 152/300\n",
            " - 1s - loss: 0.0266 - acc: 0.9931 - val_loss: 0.6062 - val_acc: 0.8900\n",
            "Epoch 153/300\n",
            " - 0s - loss: 0.0277 - acc: 0.9924 - val_loss: 0.6013 - val_acc: 0.8888\n",
            "Epoch 154/300\n",
            " - 0s - loss: 0.0277 - acc: 0.9927 - val_loss: 0.5952 - val_acc: 0.8913\n",
            "Epoch 155/300\n",
            " - 0s - loss: 0.0261 - acc: 0.9931 - val_loss: 0.6044 - val_acc: 0.8903\n",
            "Epoch 156/300\n",
            " - 0s - loss: 0.0257 - acc: 0.9936 - val_loss: 0.6114 - val_acc: 0.8895\n",
            "Epoch 157/300\n",
            " - 0s - loss: 0.0250 - acc: 0.9935 - val_loss: 0.6017 - val_acc: 0.8901\n",
            "Epoch 158/300\n",
            " - 0s - loss: 0.0249 - acc: 0.9935 - val_loss: 0.6089 - val_acc: 0.8916\n",
            "Epoch 159/300\n",
            " - 0s - loss: 0.0245 - acc: 0.9936 - val_loss: 0.6148 - val_acc: 0.8898\n",
            "Epoch 160/300\n",
            " - 0s - loss: 0.0235 - acc: 0.9940 - val_loss: 0.6207 - val_acc: 0.8899\n",
            "Epoch 161/300\n",
            " - 0s - loss: 0.0234 - acc: 0.9943 - val_loss: 0.6210 - val_acc: 0.8897\n",
            "Epoch 162/300\n",
            " - 0s - loss: 0.0231 - acc: 0.9940 - val_loss: 0.6264 - val_acc: 0.8883\n",
            "Epoch 163/300\n",
            " - 0s - loss: 0.0238 - acc: 0.9935 - val_loss: 0.6204 - val_acc: 0.8898\n",
            "Epoch 164/300\n",
            " - 0s - loss: 0.0239 - acc: 0.9937 - val_loss: 0.6371 - val_acc: 0.8884\n",
            "Epoch 165/300\n",
            " - 0s - loss: 0.0227 - acc: 0.9942 - val_loss: 0.6296 - val_acc: 0.8884\n",
            "Epoch 166/300\n",
            " - 0s - loss: 0.0221 - acc: 0.9944 - val_loss: 0.6274 - val_acc: 0.8900\n",
            "Epoch 167/300\n",
            " - 0s - loss: 0.0219 - acc: 0.9943 - val_loss: 0.6264 - val_acc: 0.8893\n",
            "Epoch 168/300\n",
            " - 0s - loss: 0.0216 - acc: 0.9948 - val_loss: 0.6356 - val_acc: 0.8895\n",
            "Epoch 169/300\n",
            " - 0s - loss: 0.0215 - acc: 0.9946 - val_loss: 0.6388 - val_acc: 0.8882\n",
            "Epoch 170/300\n",
            " - 0s - loss: 0.0206 - acc: 0.9948 - val_loss: 0.6347 - val_acc: 0.8899\n",
            "Epoch 171/300\n",
            " - 0s - loss: 0.0208 - acc: 0.9952 - val_loss: 0.6340 - val_acc: 0.8894\n",
            "Epoch 172/300\n",
            " - 0s - loss: 0.0204 - acc: 0.9952 - val_loss: 0.6439 - val_acc: 0.8885\n",
            "Epoch 173/300\n",
            " - 0s - loss: 0.0200 - acc: 0.9951 - val_loss: 0.6501 - val_acc: 0.8896\n",
            "Epoch 174/300\n",
            " - 0s - loss: 0.0197 - acc: 0.9955 - val_loss: 0.6447 - val_acc: 0.8891\n",
            "Epoch 175/300\n",
            " - 0s - loss: 0.0191 - acc: 0.9957 - val_loss: 0.6560 - val_acc: 0.8881\n",
            "Epoch 176/300\n",
            " - 0s - loss: 0.0197 - acc: 0.9953 - val_loss: 0.6589 - val_acc: 0.8898\n",
            "Epoch 177/300\n",
            " - 0s - loss: 0.0193 - acc: 0.9957 - val_loss: 0.6479 - val_acc: 0.8891\n",
            "Epoch 178/300\n",
            " - 0s - loss: 0.0189 - acc: 0.9954 - val_loss: 0.6636 - val_acc: 0.8896\n",
            "Epoch 179/300\n",
            " - 1s - loss: 0.0188 - acc: 0.9954 - val_loss: 0.6631 - val_acc: 0.8851\n",
            "Epoch 180/300\n",
            " - 1s - loss: 0.0183 - acc: 0.9957 - val_loss: 0.6632 - val_acc: 0.8890\n",
            "Epoch 181/300\n",
            " - 0s - loss: 0.0188 - acc: 0.9953 - val_loss: 0.6604 - val_acc: 0.8874\n",
            "Epoch 182/300\n",
            " - 0s - loss: 0.0190 - acc: 0.9954 - val_loss: 0.6618 - val_acc: 0.8889\n",
            "Epoch 183/300\n",
            " - 0s - loss: 0.0181 - acc: 0.9958 - val_loss: 0.6642 - val_acc: 0.8883\n",
            "Epoch 184/300\n",
            " - 0s - loss: 0.0185 - acc: 0.9956 - val_loss: 0.6672 - val_acc: 0.8895\n",
            "Epoch 185/300\n",
            " - 0s - loss: 0.0182 - acc: 0.9957 - val_loss: 0.6759 - val_acc: 0.8869\n",
            "Epoch 186/300\n",
            " - 0s - loss: 0.0184 - acc: 0.9955 - val_loss: 0.6805 - val_acc: 0.8893\n",
            "Epoch 187/300\n",
            " - 0s - loss: 0.0176 - acc: 0.9954 - val_loss: 0.6806 - val_acc: 0.8888\n",
            "Epoch 188/300\n",
            " - 0s - loss: 0.0163 - acc: 0.9965 - val_loss: 0.6788 - val_acc: 0.8891\n",
            "Epoch 189/300\n",
            " - 0s - loss: 0.0158 - acc: 0.9969 - val_loss: 0.6845 - val_acc: 0.8873\n",
            "Epoch 190/300\n",
            " - 0s - loss: 0.0157 - acc: 0.9965 - val_loss: 0.6831 - val_acc: 0.8882\n",
            "Epoch 191/300\n",
            " - 0s - loss: 0.0166 - acc: 0.9961 - val_loss: 0.6875 - val_acc: 0.8874\n",
            "Epoch 192/300\n",
            " - 0s - loss: 0.0167 - acc: 0.9959 - val_loss: 0.6827 - val_acc: 0.8902\n",
            "Epoch 193/300\n",
            " - 0s - loss: 0.0150 - acc: 0.9967 - val_loss: 0.6984 - val_acc: 0.8877\n",
            "Epoch 194/300\n",
            " - 0s - loss: 0.0154 - acc: 0.9964 - val_loss: 0.7011 - val_acc: 0.8867\n",
            "Epoch 195/300\n",
            " - 0s - loss: 0.0150 - acc: 0.9967 - val_loss: 0.6975 - val_acc: 0.8886\n",
            "Epoch 196/300\n",
            " - 0s - loss: 0.0161 - acc: 0.9961 - val_loss: 0.6941 - val_acc: 0.8857\n",
            "Epoch 197/300\n",
            " - 0s - loss: 0.0148 - acc: 0.9969 - val_loss: 0.7009 - val_acc: 0.8893\n",
            "Epoch 198/300\n",
            " - 0s - loss: 0.0135 - acc: 0.9973 - val_loss: 0.7003 - val_acc: 0.8888\n",
            "Epoch 199/300\n",
            " - 0s - loss: 0.0145 - acc: 0.9972 - val_loss: 0.7073 - val_acc: 0.8896\n",
            "Epoch 200/300\n",
            " - 0s - loss: 0.0142 - acc: 0.9969 - val_loss: 0.7053 - val_acc: 0.8895\n",
            "Epoch 201/300\n",
            " - 0s - loss: 0.0140 - acc: 0.9971 - val_loss: 0.7089 - val_acc: 0.8861\n",
            "Epoch 202/300\n",
            " - 0s - loss: 0.0134 - acc: 0.9972 - val_loss: 0.7051 - val_acc: 0.8883\n",
            "Epoch 203/300\n",
            " - 0s - loss: 0.0129 - acc: 0.9973 - val_loss: 0.6990 - val_acc: 0.8879\n",
            "Epoch 204/300\n",
            " - 0s - loss: 0.0133 - acc: 0.9973 - val_loss: 0.7160 - val_acc: 0.8866\n",
            "Epoch 205/300\n",
            " - 0s - loss: 0.0138 - acc: 0.9970 - val_loss: 0.7155 - val_acc: 0.8872\n",
            "Epoch 206/300\n",
            " - 0s - loss: 0.0126 - acc: 0.9976 - val_loss: 0.7164 - val_acc: 0.8874\n",
            "Epoch 207/300\n",
            " - 0s - loss: 0.0118 - acc: 0.9977 - val_loss: 0.7169 - val_acc: 0.8892\n",
            "Epoch 208/300\n",
            " - 0s - loss: 0.0119 - acc: 0.9979 - val_loss: 0.7164 - val_acc: 0.8876\n",
            "Epoch 209/300\n",
            " - 0s - loss: 0.0124 - acc: 0.9975 - val_loss: 0.7213 - val_acc: 0.8872\n",
            "Epoch 210/300\n",
            " - 0s - loss: 0.0112 - acc: 0.9981 - val_loss: 0.7221 - val_acc: 0.8881\n",
            "Epoch 211/300\n",
            " - 0s - loss: 0.0120 - acc: 0.9979 - val_loss: 0.7246 - val_acc: 0.8883\n",
            "Epoch 212/300\n",
            " - 0s - loss: 0.0126 - acc: 0.9974 - val_loss: 0.7269 - val_acc: 0.8888\n",
            "Epoch 213/300\n",
            " - 0s - loss: 0.0116 - acc: 0.9975 - val_loss: 0.7270 - val_acc: 0.8866\n",
            "Epoch 214/300\n",
            " - 0s - loss: 0.0118 - acc: 0.9977 - val_loss: 0.7327 - val_acc: 0.8883\n",
            "Epoch 215/300\n",
            " - 0s - loss: 0.0117 - acc: 0.9976 - val_loss: 0.7339 - val_acc: 0.8866\n",
            "Epoch 216/300\n",
            " - 0s - loss: 0.0114 - acc: 0.9979 - val_loss: 0.7368 - val_acc: 0.8881\n",
            "Epoch 217/300\n",
            " - 0s - loss: 0.0134 - acc: 0.9971 - val_loss: 0.7317 - val_acc: 0.8872\n",
            "Epoch 218/300\n",
            " - 0s - loss: 0.0133 - acc: 0.9970 - val_loss: 0.7460 - val_acc: 0.8878\n",
            "Epoch 219/300\n",
            " - 0s - loss: 0.0113 - acc: 0.9981 - val_loss: 0.7349 - val_acc: 0.8880\n",
            "Epoch 220/300\n",
            " - 0s - loss: 0.0110 - acc: 0.9977 - val_loss: 0.7456 - val_acc: 0.8876\n",
            "Epoch 221/300\n",
            " - 0s - loss: 0.0109 - acc: 0.9977 - val_loss: 0.7478 - val_acc: 0.8890\n",
            "Epoch 222/300\n",
            " - 0s - loss: 0.0106 - acc: 0.9980 - val_loss: 0.7498 - val_acc: 0.8871\n",
            "Epoch 223/300\n",
            " - 0s - loss: 0.0108 - acc: 0.9978 - val_loss: 0.7432 - val_acc: 0.8873\n",
            "Epoch 224/300\n",
            " - 0s - loss: 0.0099 - acc: 0.9981 - val_loss: 0.7530 - val_acc: 0.8881\n",
            "Epoch 225/300\n",
            " - 0s - loss: 0.0094 - acc: 0.9984 - val_loss: 0.7545 - val_acc: 0.8884\n",
            "Epoch 226/300\n",
            " - 0s - loss: 0.0096 - acc: 0.9983 - val_loss: 0.7621 - val_acc: 0.8874\n",
            "Epoch 227/300\n",
            " - 0s - loss: 0.0094 - acc: 0.9985 - val_loss: 0.7501 - val_acc: 0.8878\n",
            "Epoch 228/300\n",
            " - 0s - loss: 0.0102 - acc: 0.9982 - val_loss: 0.7569 - val_acc: 0.8881\n",
            "Epoch 229/300\n",
            " - 0s - loss: 0.0106 - acc: 0.9980 - val_loss: 0.7577 - val_acc: 0.8870\n",
            "Epoch 230/300\n",
            " - 0s - loss: 0.0102 - acc: 0.9978 - val_loss: 0.7620 - val_acc: 0.8864\n",
            "Epoch 231/300\n",
            " - 0s - loss: 0.0111 - acc: 0.9977 - val_loss: 0.7680 - val_acc: 0.8866\n",
            "Epoch 232/300\n",
            " - 0s - loss: 0.0093 - acc: 0.9984 - val_loss: 0.7634 - val_acc: 0.8877\n",
            "Epoch 233/300\n",
            " - 0s - loss: 0.0088 - acc: 0.9985 - val_loss: 0.7664 - val_acc: 0.8867\n",
            "Epoch 234/300\n",
            " - 0s - loss: 0.0084 - acc: 0.9988 - val_loss: 0.7648 - val_acc: 0.8860\n",
            "Epoch 235/300\n",
            " - 0s - loss: 0.0085 - acc: 0.9984 - val_loss: 0.7722 - val_acc: 0.8865\n",
            "Epoch 236/300\n",
            " - 0s - loss: 0.0088 - acc: 0.9985 - val_loss: 0.7743 - val_acc: 0.8872\n",
            "Epoch 237/300\n",
            " - 0s - loss: 0.0078 - acc: 0.9990 - val_loss: 0.7692 - val_acc: 0.8888\n",
            "Epoch 238/300\n",
            " - 0s - loss: 0.0076 - acc: 0.9988 - val_loss: 0.7756 - val_acc: 0.8878\n",
            "Epoch 239/300\n",
            " - 0s - loss: 0.0080 - acc: 0.9987 - val_loss: 0.7775 - val_acc: 0.8875\n",
            "Epoch 240/300\n",
            " - 0s - loss: 0.0079 - acc: 0.9989 - val_loss: 0.7725 - val_acc: 0.8874\n",
            "Epoch 241/300\n",
            " - 0s - loss: 0.0080 - acc: 0.9988 - val_loss: 0.7800 - val_acc: 0.8881\n",
            "Epoch 242/300\n",
            " - 0s - loss: 0.0077 - acc: 0.9988 - val_loss: 0.7907 - val_acc: 0.8879\n",
            "Epoch 243/300\n",
            " - 0s - loss: 0.0098 - acc: 0.9983 - val_loss: 0.7770 - val_acc: 0.8857\n",
            "Epoch 244/300\n",
            " - 0s - loss: 0.0095 - acc: 0.9981 - val_loss: 0.7786 - val_acc: 0.8878\n",
            "Epoch 245/300\n",
            " - 0s - loss: 0.0087 - acc: 0.9984 - val_loss: 0.7905 - val_acc: 0.8880\n",
            "Epoch 246/300\n",
            " - 0s - loss: 0.0082 - acc: 0.9988 - val_loss: 0.7924 - val_acc: 0.8862\n",
            "Epoch 247/300\n",
            " - 0s - loss: 0.0074 - acc: 0.9990 - val_loss: 0.7885 - val_acc: 0.8864\n",
            "Epoch 248/300\n",
            " - 0s - loss: 0.0069 - acc: 0.9991 - val_loss: 0.7947 - val_acc: 0.8885\n",
            "Epoch 249/300\n",
            " - 0s - loss: 0.0083 - acc: 0.9987 - val_loss: 0.7891 - val_acc: 0.8887\n",
            "Epoch 250/300\n",
            " - 0s - loss: 0.0070 - acc: 0.9990 - val_loss: 0.8004 - val_acc: 0.8856\n",
            "Epoch 251/300\n",
            " - 0s - loss: 0.0076 - acc: 0.9989 - val_loss: 0.7935 - val_acc: 0.8871\n",
            "Epoch 252/300\n",
            " - 0s - loss: 0.0076 - acc: 0.9991 - val_loss: 0.7973 - val_acc: 0.8856\n",
            "Epoch 253/300\n",
            " - 0s - loss: 0.0064 - acc: 0.9993 - val_loss: 0.7942 - val_acc: 0.8876\n",
            "Epoch 254/300\n",
            " - 0s - loss: 0.0060 - acc: 0.9993 - val_loss: 0.8029 - val_acc: 0.8871\n",
            "Epoch 255/300\n",
            " - 0s - loss: 0.0067 - acc: 0.9990 - val_loss: 0.8085 - val_acc: 0.8856\n",
            "Epoch 256/300\n",
            " - 0s - loss: 0.0063 - acc: 0.9991 - val_loss: 0.8019 - val_acc: 0.8860\n",
            "Epoch 257/300\n",
            " - 0s - loss: 0.0074 - acc: 0.9987 - val_loss: 0.8071 - val_acc: 0.8867\n",
            "Epoch 258/300\n",
            " - 0s - loss: 0.0065 - acc: 0.9992 - val_loss: 0.8101 - val_acc: 0.8869\n",
            "Epoch 259/300\n",
            " - 0s - loss: 0.0060 - acc: 0.9994 - val_loss: 0.8063 - val_acc: 0.8869\n",
            "Epoch 260/300\n",
            " - 0s - loss: 0.0064 - acc: 0.9991 - val_loss: 0.8137 - val_acc: 0.8876\n",
            "Epoch 261/300\n",
            " - 0s - loss: 0.0065 - acc: 0.9991 - val_loss: 0.8097 - val_acc: 0.8862\n",
            "Epoch 262/300\n",
            " - 0s - loss: 0.0065 - acc: 0.9992 - val_loss: 0.8088 - val_acc: 0.8872\n",
            "Epoch 263/300\n",
            " - 0s - loss: 0.0057 - acc: 0.9995 - val_loss: 0.8176 - val_acc: 0.8871\n",
            "Epoch 264/300\n",
            " - 0s - loss: 0.0051 - acc: 0.9995 - val_loss: 0.8178 - val_acc: 0.8869\n",
            "Epoch 265/300\n",
            " - 0s - loss: 0.0058 - acc: 0.9993 - val_loss: 0.8190 - val_acc: 0.8880\n",
            "Epoch 266/300\n",
            " - 0s - loss: 0.0063 - acc: 0.9990 - val_loss: 0.8131 - val_acc: 0.8874\n",
            "Epoch 267/300\n",
            " - 0s - loss: 0.0054 - acc: 0.9995 - val_loss: 0.8169 - val_acc: 0.8881\n",
            "Epoch 268/300\n",
            " - 0s - loss: 0.0079 - acc: 0.9983 - val_loss: 0.8371 - val_acc: 0.8848\n",
            "Epoch 269/300\n",
            " - 0s - loss: 0.0103 - acc: 0.9973 - val_loss: 0.8472 - val_acc: 0.8844\n",
            "Epoch 270/300\n",
            " - 0s - loss: 0.0130 - acc: 0.9968 - val_loss: 0.8377 - val_acc: 0.8871\n",
            "Epoch 271/300\n",
            " - 0s - loss: 0.0091 - acc: 0.9979 - val_loss: 0.8330 - val_acc: 0.8871\n",
            "Epoch 272/300\n",
            " - 0s - loss: 0.0052 - acc: 0.9995 - val_loss: 0.8284 - val_acc: 0.8863\n",
            "Epoch 273/300\n",
            " - 0s - loss: 0.0047 - acc: 0.9995 - val_loss: 0.8326 - val_acc: 0.8875\n",
            "Epoch 274/300\n",
            " - 0s - loss: 0.0043 - acc: 0.9997 - val_loss: 0.8294 - val_acc: 0.8871\n",
            "Epoch 275/300\n",
            " - 0s - loss: 0.0045 - acc: 0.9996 - val_loss: 0.8247 - val_acc: 0.8881\n",
            "Epoch 276/300\n",
            " - 0s - loss: 0.0043 - acc: 0.9997 - val_loss: 0.8338 - val_acc: 0.8865\n",
            "Epoch 277/300\n",
            " - 0s - loss: 0.0044 - acc: 0.9996 - val_loss: 0.8310 - val_acc: 0.8869\n",
            "Epoch 278/300\n",
            " - 0s - loss: 0.0043 - acc: 0.9997 - val_loss: 0.8384 - val_acc: 0.8867\n",
            "Epoch 279/300\n",
            " - 0s - loss: 0.0042 - acc: 0.9997 - val_loss: 0.8370 - val_acc: 0.8854\n",
            "Epoch 280/300\n",
            " - 0s - loss: 0.0056 - acc: 0.9991 - val_loss: 0.8403 - val_acc: 0.8852\n",
            "Epoch 281/300\n",
            " - 0s - loss: 0.0055 - acc: 0.9993 - val_loss: 0.8374 - val_acc: 0.8875\n",
            "Epoch 282/300\n",
            " - 0s - loss: 0.0044 - acc: 0.9996 - val_loss: 0.8424 - val_acc: 0.8866\n",
            "Epoch 283/300\n",
            " - 0s - loss: 0.0044 - acc: 0.9996 - val_loss: 0.8392 - val_acc: 0.8855\n",
            "Epoch 284/300\n",
            " - 0s - loss: 0.0040 - acc: 0.9997 - val_loss: 0.8396 - val_acc: 0.8856\n",
            "Epoch 285/300\n",
            " - 0s - loss: 0.0040 - acc: 0.9998 - val_loss: 0.8486 - val_acc: 0.8883\n",
            "Epoch 286/300\n",
            " - 0s - loss: 0.0048 - acc: 0.9995 - val_loss: 0.8441 - val_acc: 0.8886\n",
            "Epoch 287/300\n",
            " - 0s - loss: 0.0059 - acc: 0.9991 - val_loss: 0.8541 - val_acc: 0.8842\n",
            "Epoch 288/300\n",
            " - 0s - loss: 0.0061 - acc: 0.9989 - val_loss: 0.8577 - val_acc: 0.8846\n",
            "Epoch 289/300\n",
            " - 0s - loss: 0.0088 - acc: 0.9975 - val_loss: 0.8632 - val_acc: 0.8822\n",
            "Epoch 290/300\n",
            " - 0s - loss: 0.0184 - acc: 0.9938 - val_loss: 0.8807 - val_acc: 0.8823\n",
            "Epoch 291/300\n",
            " - 0s - loss: 0.0118 - acc: 0.9966 - val_loss: 0.8588 - val_acc: 0.8847\n",
            "Epoch 292/300\n",
            " - 0s - loss: 0.0048 - acc: 0.9995 - val_loss: 0.8565 - val_acc: 0.8870\n",
            "Epoch 293/300\n",
            " - 0s - loss: 0.0034 - acc: 0.9998 - val_loss: 0.8514 - val_acc: 0.8873\n",
            "Epoch 294/300\n",
            " - 0s - loss: 0.0031 - acc: 0.9999 - val_loss: 0.8557 - val_acc: 0.8870\n",
            "Epoch 295/300\n",
            " - 0s - loss: 0.0031 - acc: 0.9998 - val_loss: 0.8570 - val_acc: 0.8872\n",
            "Epoch 296/300\n",
            " - 0s - loss: 0.0031 - acc: 0.9998 - val_loss: 0.8523 - val_acc: 0.8849\n",
            "Epoch 297/300\n",
            " - 0s - loss: 0.0033 - acc: 0.9998 - val_loss: 0.8536 - val_acc: 0.8870\n",
            "Epoch 298/300\n",
            " - 0s - loss: 0.0031 - acc: 0.9998 - val_loss: 0.8580 - val_acc: 0.8877\n",
            "Epoch 299/300\n",
            " - 0s - loss: 0.0031 - acc: 0.9999 - val_loss: 0.8572 - val_acc: 0.8869\n",
            "Epoch 300/300\n",
            " - 0s - loss: 0.0038 - acc: 0.9996 - val_loss: 0.8591 - val_acc: 0.8870\n"
          ],
          "name": "stdout"
        },
        {
          "output_type": "display_data",
          "data": {
            "image/png": "[encoded data removed]",
            "text/plain": [
              "<Figure size 576x355.995 with 1 Axes>"
            ]
          },
          "metadata": {
            "tags": []
          }
        },
        {
          "output_type": "display_data",
          "data": {
            "image/png": "[encoded data removed]",
            "text/plain": [
              "<Figure size 576x355.995 with 1 Axes>"
            ]
          },
          "metadata": {
            "tags": []
          }
        }
      ]
    },
    {
      "metadata": {
        "id": "KD7LCH_Jga-b",
        "colab_type": "code",
        "outputId": "00a37684-072a-43b2-ccbd-796d4a6563a4",
        "colab": {
          "base_uri": "https://localhost:8080/",
          "height": 85
        }
      },
      "cell_type": "code",
      "source": [
        "##Make predictions in the test set/Look ata ccuracy across variables/ look at which variable had the highest prediction rate\n",
        "predictions = model.predict(test_images)\n",
        "print(predictions[0])\n",
        "print(np.argmax(predictions[0]))\n",
        "print(test_labels[0])"
      ],
      "execution_count": 0,
      "outputs": [
        {
          "output_type": "stream",
          "text": [
            "[2.0367446e-08 6.5533788e-17 1.2175622e-13 3.9691036e-14 4.4522984e-13\n",
            " 1.2271278e-06 4.6849102e-13 9.0643245e-04 1.7236020e-11 9.9909234e-01]\n",
            "9\n",
            "9\n"
          ],
          "name": "stdout"
        }
      ]
    },
    {
      "metadata": {
        "id": "2V1gBhEwfNu3",
        "colab_type": "code",
        "colab": {}
      },
      "cell_type": "code",
      "source": [
        "##Look at Accuracy\n",
        "def plot_image(i, predictions_array, true_label, img):\n",
        "  predictions_array, true_label, img = predictions_array[i], true_label[i], img[i]\n",
        "  plt.grid(False)\n",
        "  plt.xticks([])\n",
        "  plt.yticks([])\n",
        "  \n",
        "  plt.imshow(img, cmap=plt.cm.binary)\n",
        "\n",
        "  predicted_label = np.argmax(predictions_array)\n",
        "  if predicted_label == true_label:\n",
        "    color = 'blue'\n",
        "  else:\n",
        "    color = 'red'\n",
        "  \n",
        "  plt.xlabel(\"{} {:2.0f}% ({})\".format(class_names[predicted_label],\n",
        "                                100*np.max(predictions_array),\n",
        "                                class_names[true_label]),\n",
        "                                color=color)\n",
        "\n",
        "def plot_value_array(i, predictions_array, true_label):\n",
        "  predictions_array, true_label = predictions_array[i], true_label[i]\n",
        "  plt.grid(False)\n",
        "  plt.xticks([])\n",
        "  plt.yticks([])\n",
        "  thisplot = plt.bar(range(10), predictions_array, color=\"#777777\")\n",
        "  plt.ylim([0, 1]) \n",
        "  predicted_label = np.argmax(predictions_array)\n",
        " \n",
        "  thisplot[predicted_label].set_color('red')\n",
        "  thisplot[true_label].set_color('blue')"
      ],
      "execution_count": 0,
      "outputs": []
    },
    {
      "metadata": {
        "id": "AVHMLz6fgKh2",
        "colab_type": "code",
        "outputId": "ef3dff7f-e365-470b-f5e4-5760ca82b572",
        "colab": {
          "base_uri": "https://localhost:8080/",
          "height": 761
        }
      },
      "cell_type": "code",
      "source": [
        "##Look how the model predicted different out comes\n",
        "i = 0\n",
        "plt.figure(figsize=(6,3))\n",
        "plt.subplot(1,2,1)\n",
        "plot_image(i, predictions, test_labels, test_images)\n",
        "plt.subplot(1,2,2)\n",
        "plot_value_array(i, predictions,  test_labels)\n",
        "plt.show()\n",
        "\n",
        "i = 5\n",
        "plt.figure(figsize=(6,3))\n",
        "plt.subplot(1,2,1)\n",
        "plot_image(i, predictions, test_labels, test_images)\n",
        "plt.subplot(1,2,2)\n",
        "plot_value_array(i, predictions,  test_labels)\n",
        "plt.show()\n",
        "\n",
        "i = 100\n",
        "plt.figure(figsize=(6,3))\n",
        "plt.subplot(1,2,1)\n",
        "plot_image(i, predictions, test_labels, test_images)\n",
        "plt.subplot(1,2,2)\n",
        "plot_value_array(i, predictions,  test_labels)\n",
        "plt.show()\n",
        "\n",
        "i = 1000\n",
        "plt.figure(figsize=(6,3))\n",
        "plt.subplot(1,2,1)\n",
        "plot_image(i, predictions, test_labels, test_images)\n",
        "plt.subplot(1,2,2)\n",
        "plot_value_array(i, predictions,  test_labels)\n",
        "plt.show()"
      ],
      "execution_count": 0,
      "outputs": [
        {
          "output_type": "display_data",
          "data": {
            "image/png": "[encoded data removed]",
            "text/plain": [
              "<Figure size 432x216 with 2 Axes>"
            ]
          },
          "metadata": {
            "tags": []
          }
        },
        {
          "output_type": "display_data",
          "data": {
            "image/png": "[encoded data removed]",
            "text/plain": [
              "<Figure size 432x216 with 2 Axes>"
            ]
          },
          "metadata": {
            "tags": []
          }
        },
        {
          "output_type": "display_data",
          "data": {
            "image/png": "[encoded data removed]",
            "text/plain": [
              "<Figure size 432x216 with 2 Axes>"
            ]
          },
          "metadata": {
            "tags": []
          }
        },
        {
          "output_type": "display_data",
          "data": {
            "image/png": "[encoded data removed]",
            "text/plain": [
              "<Figure size 432x216 with 2 Axes>"
            ]
          },
          "metadata": {
            "tags": []
          }
        }
      ]
    },
    {
      "metadata": {
        "id": "VZEXvkE_xuIH",
        "colab_type": "code",
        "outputId": "0e15c799-a653-4580-e01b-a52e13ef31ba",
        "colab": {
          "base_uri": "https://localhost:8080/",
          "height": 589
        }
      },
      "cell_type": "code",
      "source": [
        "# Plot the first X test images, their predicted label, and the true label\n",
        "# Color correct predictions in blue, incorrect predictions in red\n",
        "num_rows = 5\n",
        "num_cols = 3\n",
        "num_images = num_rows*num_cols\n",
        "plt.figure(figsize=(2*2*num_cols, 2*num_rows))\n",
        "for i in range(num_images):\n",
        "  plt.subplot(num_rows, 2*num_cols, 2*i+1)\n",
        "  plot_image(i, predictions, test_labels, test_images)\n",
        "  plt.subplot(num_rows, 2*num_cols, 2*i+2)\n",
        "  plot_value_array(i, predictions, test_labels)\n",
        "plt.show()"
      ],
      "execution_count": 0,
      "outputs": [
        {
          "output_type": "display_data",
          "data": {
            "image/png": "[encoded data removed]",
            "text/plain": [
              "<Figure size 864x720 with 30 Axes>"
            ]
          },
          "metadata": {
            "tags": []
          }
        }
      ]
    },
    {
      "metadata": {
        "id": "6QWwGOMLxlyq",
        "colab_type": "code",
        "outputId": "762aa6f6-7c66-41e2-de84-207769d47db1",
        "colab": {
          "base_uri": "https://localhost:8080/",
          "height": 462
        }
      },
      "cell_type": "code",
      "source": [
        "#Use the trained model to make a prediction about a single image\n",
        "#Grab an image from the test dataset\n",
        "#Add the image to a batch where it's the only member\n",
        "#Make prediction\n",
        "img = test_images[0]\n",
        "print(img.shape)\n",
        "img = (np.expand_dims(img,0))\n",
        "print(img.shape)\n",
        "predictions_single = model.predict(img)\n",
        "print(predictions_single)\n",
        "plot_value_array(0, predictions_single, test_labels)\n",
        "_ = plt.xticks(range(10), class_names, rotation=45)\n",
        "np.argmax(predictions_single[0])"
      ],
      "execution_count": 0,
      "outputs": [
        {
          "output_type": "stream",
          "text": [
            "(28, 28)\n",
            "(1, 28, 28)\n",
            "[[2.0367525e-08 6.5533536e-17 1.2175692e-13 3.9691036e-14 4.4522900e-13\n",
            "  1.2271347e-06 4.6848923e-13 9.0643117e-04 1.7236053e-11 9.9909234e-01]]\n"
          ],
          "name": "stdout"
        },
        {
          "output_type": "execute_result",
          "data": {
            "text/plain": [
              "9"
            ]
          },
          "metadata": {
            "tags": []
          },
          "execution_count": 49
        },
        {
          "output_type": "display_data",
          "data": {
            "image/png": "[encoded data removed]",
            "text/plain": [
              "<Figure size 576x396 with 1 Axes>"
            ]
          },
          "metadata": {
            "tags": []
          }
        }
      ]
    }
  ]
}